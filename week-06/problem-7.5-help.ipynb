{
 "cells": [
  {
   "cell_type": "code",
   "execution_count": 14,
   "id": "ba96369d",
   "metadata": {},
   "outputs": [],
   "source": [
    "import numpy as np\n",
    "import matplotlib.pyplot as plt\n",
    "from numpy.random import default_rng\n",
    "rand = default_rng().random\n",
    "from scipy.special import beta"
   ]
  },
  {
   "cell_type": "code",
   "execution_count": 20,
   "id": "dbdc3f67",
   "metadata": {},
   "outputs": [
    {
     "name": "stdout",
     "output_type": "stream",
     "text": [
      "1.0000000000001763\n",
      "\n",
      " 0.45774863449318964\n"
     ]
    },
    {
     "data": {
      "image/png": "[encoded data removed]",
      "text/plain": [
       "<Figure size 432x288 with 1 Axes>"
      ]
     },
     "metadata": {
      "needs_background": "light"
     },
     "output_type": "display_data"
    }
   ],
   "source": [
    "l = 301\n",
    "N = 600\n",
    "B = 1/beta(l+1, N-l+1)\n",
    "\n",
    "xi = np.linspace(0,1,1001)\n",
    "P = B*xi**l*(1-xi)**(N-l)\n",
    "\n",
    "plt.plot(xi, P)\n",
    "\n",
    "dxi = xi[1] - xi[0]\n",
    "print(P.sum()*dxi) # Should = ~ 1\n",
    "\n",
    "print('\\n', P[(xi>0.4)*(xi<0.5)].sum()*dxi) # Should = ~ 0.5\n"
   ]
  },
  {
   "cell_type": "code",
   "execution_count": 21,
   "id": "700d499c",
   "metadata": {},
   "outputs": [
    {
     "name": "stdout",
     "output_type": "stream",
     "text": [
      "0.9999991095544181\n"
     ]
    }
   ],
   "source": [
    "Delta = 0.1\n",
    "dxi = xi[1] - xi[0]\n",
    "\n",
    "print(P[(xi>0.5-Delta)*(xi<0.5+Delta)].sum()*dxi) # Should sum closer to = 1"
   ]
  },
  {
   "cell_type": "code",
   "execution_count": null,
   "id": "c956de9a",
   "metadata": {},
   "outputs": [],
   "source": []
  }
 ],
 "metadata": {
  "kernelspec": {
   "display_name": "Python 3 (ipykernel)",
   "language": "python",
   "name": "python3"
  },
  "language_info": {
   "codemirror_mode": {
    "name": "ipython",
    "version": 3
   },
   "file_extension": ".py",
   "mimetype": "text/x-python",
   "name": "python",
   "nbconvert_exporter": "python",
   "pygments_lexer": "ipython3",
   "version": "3.8.8"
  }
 },
 "nbformat": 4,
 "nbformat_minor": 5
}

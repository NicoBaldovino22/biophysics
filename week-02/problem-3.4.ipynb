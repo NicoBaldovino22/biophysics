{
 "cells": [
  {
   "cell_type": "markdown",
   "id": "5412ca32",
   "metadata": {},
   "source": [
    "# Problem 3.4\n",
    "\n",
    "This problem explores the \"Gambler's Fallacy\" --- the idea that after a string of losses, you are \"due\" for a win.\n",
    "\n",
    "We will represent __heads__ by $+1$ and __tails__ by $-1$.  The variable $X$ is the sum of ten such flips of a coin: the number of heads minus the number of tails."
   ]
  },
  {
   "cell_type": "code",
   "execution_count": 11,
   "id": "8248ee95",
   "metadata": {},
   "outputs": [],
   "source": [
    "# Standard setup\n",
    "import numpy as np\n",
    "import matplotlib.pyplot as plt\n",
    "\n",
    "# Get a random number generator.\n",
    "from numpy.random import default_rng\n",
    "rng = default_rng()\n",
    "rand = rng.random"
   ]
  },
  {
   "cell_type": "markdown",
   "id": "9efb4a03",
   "metadata": {},
   "source": [
    "Verify that the following code generates a sequence of 10 flips, as described in the problem.  Briefly explain how it works.\n",
    "\n",
    "-----"
   ]
  },
  {
   "cell_type": "code",
   "execution_count": 12,
   "id": "0bfd145a",
   "metadata": {},
   "outputs": [
    {
     "name": "stdout",
     "output_type": "stream",
     "text": [
      "Coin flips:  [-1 -1 -1  1  1 -1  1  1 -1  1]\n",
      "Sum: X= 0\n",
      "[-1 -1 -1  1  1]\n",
      "-1\n",
      "The sum of the first 5 elements was NOT 5!\n"
     ]
    }
   ],
   "source": [
    "flips = 2*(rand(10) < 0.5) - 1 \n",
    "X = flips.sum()\n",
    "\n",
    "print(\"Coin flips: \", flips)\n",
    "print(\"Sum: X=\", X)\n",
    "\n",
    "print(flips[:5])\n",
    "print(sum(flips[:5]))\n",
    "\n",
    "if sum(flips[:5]) == 5:\n",
    "      print(\"The sum of the first 5 elements was 5!\")\n",
    "else: print(\"The sum of the first 5 elements was NOT 5!\")"
   ]
  },
  {
   "cell_type": "markdown",
   "id": "a06734d6",
   "metadata": {},
   "source": [
    "The first line creates a boolean array of 10 randomly generated numbers that fit a 'True/False' statement if < 0.5 (or 0 = False and 1 = True) and multiplies that value it by 2, then is subtracts 1 from the resulting product to give us an array of consisting of 1 for True and -1 for False. Then the second line of code sums together all of the values in the matrix labeled 'flips' and assigns this sum to the variable 'X'. The third and fourth lines of code prints the first two lines of code with short descriptions. The fifth and sixth line of code prints the first 5 flips of a coin and the sum of these 5 flips, respectively. Finally, the last if/else statement generates a final print line that will print 'The sum of the first 5 elements was 5!' if the sum of the first 5 flips really does sum to 5, or else it prints 'The sum of the first 5 elements was NOT 5!'"
   ]
  },
  {
   "cell_type": "markdown",
   "id": "034186de",
   "metadata": {},
   "source": [
    "------\n",
    "\n",
    "## (a)\n",
    "\n",
    "Fill in the necessary Python code below."
   ]
  },
  {
   "cell_type": "code",
   "execution_count": 30,
   "id": "62ca501f",
   "metadata": {},
   "outputs": [
    {
     "name": "stdout",
     "output_type": "stream",
     "text": [
      "There were 5 trials that started with 5 heads.\n",
      "The average of X for these trials was <X> = 3.6000.\n"
     ]
    }
   ],
   "source": [
    "# Define the problem.\n",
    "Ntrials = 200\n",
    "Nflips = 10 \n",
    "Nstart = 5\n",
    "\n",
    "# Create an array to store the data we want.\n",
    "data = np.zeros(Ntrials)\n",
    "count = 0\n",
    "\n",
    "# Generate Ntrials sequences of Nflips coin flips, and sum.\n",
    "for n in range(Ntrials):\n",
    "    flips = 2*(rand(Nflips) < 0.5) - 1 #rand(Nflips)\n",
    "    X = flips.sum()\n",
    "    \n",
    "    # Replace \"if True:\" with a conditional statement that will do the following.\n",
    "    #    IF the first Nstart flips are heads, store X in \"data\" and increment \"count\".\n",
    "    #    OTHERWISE, do nothing and continue to the next trial.\n",
    "    if sum(flips[:5]) == 5:\n",
    "        data[count] = X\n",
    "        count += 1 #means the same thing as \"count = count + 1\" the += is the count times assignment\n",
    "\n",
    "# Now use the data set to answer the question.\n",
    "if count == 0:\n",
    "    print(\"No trials started with {} heads.\".format(Nstart))\n",
    "else:\n",
    "    avgX = data[:count].sum() / count\n",
    "    print (\"There were {} trials that started with {} heads.\".format(count,Nstart))\n",
    "    print(\"The average of X for these trials was <X> = {:.4f}.\".format(avgX))\n"
   ]
  },
  {
   "cell_type": "markdown",
   "id": "a568067f",
   "metadata": {},
   "source": [
    "Run your code several times.  What patterns do you observe?\n",
    "\n",
    "-----"
   ]
  },
  {
   "cell_type": "markdown",
   "id": "c021f245",
   "metadata": {},
   "source": [
    "There exists a pattern of very few trials that actually started with the first 5 flips resulting in 'Heads' Out of the 200 trials, on average only about 4 to 6 of these trials"
   ]
  },
  {
   "cell_type": "markdown",
   "id": "d0a59d2d",
   "metadata": {},
   "source": [
    "-----\n",
    "\n",
    "## (b)\n",
    "\n",
    "Repeat for `Ntrials = 2000` and `Ntrials = 8000`.\n",
    "\n",
    "> Does the answer seem to be converging to zero, as predicted in the quoted text above? Whatever your answer, give some explanation for why the answer you found should have been expected.\n",
    "\n",
    "-----"
   ]
  },
  {
   "cell_type": "markdown",
   "id": "39fe4cef",
   "metadata": {},
   "source": []
  },
  {
   "cell_type": "markdown",
   "id": "86ce2eec",
   "metadata": {},
   "source": [
    "-----\n",
    "\n",
    "## (c)\n",
    "\n",
    "Explore regression to the mean, as described in the problem text."
   ]
  },
  {
   "cell_type": "code",
   "execution_count": null,
   "id": "aa170fae",
   "metadata": {},
   "outputs": [],
   "source": []
  },
  {
   "cell_type": "markdown",
   "id": "2d3b3ac6",
   "metadata": {},
   "source": [
    "Comment on your observations.\n",
    "\n",
    "-----"
   ]
  },
  {
   "cell_type": "markdown",
   "id": "4a59cb3c",
   "metadata": {},
   "source": []
  },
  {
   "cell_type": "markdown",
   "id": "ae008467",
   "metadata": {},
   "source": [
    "-----\n",
    "\n",
    "## (d)\n",
    "\n",
    "Evaluate the ___spread___ of $X$ for large numbers of trials, as described in the text."
   ]
  },
  {
   "cell_type": "code",
   "execution_count": 69,
   "id": "bfbc55ba",
   "metadata": {},
   "outputs": [
    {
     "name": "stdout",
     "output_type": "stream",
     "text": [
      "X= 0.4976 +/- 0.290383\n"
     ]
    },
    {
     "data": {
      "text/plain": [
       "0.2903829008302718"
      ]
     },
     "execution_count": 69,
     "metadata": {},
     "output_type": "execute_result"
    }
   ],
   "source": [
    "X = rand(1000)\n",
    "print(\"X= {:.4f} +/- {:4f}\".format(X.mean(), X.std()))\n",
    "\n",
    "#or\n",
    "np.std(X)"
   ]
  },
  {
   "cell_type": "markdown",
   "id": "365cdafe",
   "metadata": {},
   "source": [
    "Comment on your observations.\n",
    "\n",
    "-----"
   ]
  },
  {
   "cell_type": "markdown",
   "id": "735adef2",
   "metadata": {},
   "source": []
  },
  {
   "cell_type": "markdown",
   "id": "a87f68ee",
   "metadata": {},
   "source": [
    "_____\n",
    "\n",
    "## (e)\n",
    "\n",
    "Discuss which proposition better describes your findings.\n",
    "\n",
    "> If the first N flips are heads, the next series flips will be more than half tails, in order to pull X closer to zero, because X ‘wants’ to be zero on average.\n",
    "\n",
    "... or ...\n",
    "\n",
    "> The effect of unusual past behavior doesn’t disappear; it just gets diluted as time goes on.\n",
    "\n",
    "-----"
   ]
  },
  {
   "cell_type": "markdown",
   "id": "b6261c64",
   "metadata": {},
   "source": []
  },
  {
   "cell_type": "code",
   "execution_count": 73,
   "id": "3ddf3d6a-efec-4476-9320-61aba168653b",
   "metadata": {},
   "outputs": [
    {
     "name": "stdout",
     "output_type": "stream",
     "text": [
      "n=  10\n",
      "There were 11 trials that started with 5 heads.\n",
      "The average of X for these trials was <X>= 4.9091.\n",
      "n=  100\n",
      "There were 5 trials that started with 5 heads.\n",
      "The average of X for these trials was <X>= 7.6000.\n",
      "n=  500\n",
      "There were 7 trials that started with 5 heads.\n",
      "The average of X for these trials was <X>= 1.1429.\n",
      "n=  2500\n",
      "There were 7 trials that started with 5 heads.\n",
      "The average of X for these trials was <X>= -26.8571.\n"
     ]
    }
   ],
   "source": [
    "# Practice example of how to change the number of flips per trial\n",
    "Ntrials = 200\n",
    "Nvalues = [10, 100, 500, 2500] \n",
    "Nflips = 10\n",
    "Nstart = 5\n",
    "\n",
    "for n in Nvalues:\n",
    "    # Create an array to store the data we want.\n",
    "    data = np.zeros(Ntrials)\n",
    "    count = 0\n",
    "    print('n= ',n)\n",
    "    Nflips = n\n",
    "\n",
    "    # Generate Ntrials sequences of Nflips coin flips, and sum.\n",
    "    for n in range(Ntrials):\n",
    "        flips = 2*(rand(Nflips) < 0.5) - 1 \n",
    "        X = flips.sum()\n",
    "    \n",
    "        # Replace \"if True:\" with a conditional statement that will do the following.\n",
    "        #    IF the first Nstart flips are heads, store X in \"data\" and increment \"count\".\n",
    "        #    OTHERWISE, do nothing and continue to the next trial.\n",
    "        if sum(flips[:5]) == 5:\n",
    "            data[count] = X\n",
    "            count += 1 #means the same thing as \"count = count + 1\" the += is the count times assignment\n",
    "\n",
    "    # Now use the data set to answer the question.\n",
    "    if count == 0:\n",
    "        print(\"No trials started with {} heads.\".format(Nstart))\n",
    "    else:\n",
    "        avgX = data[:count].sum() / count\n",
    "        print (\"There were {} trials that started with {} heads.\".format(count,Nstart))\n",
    "        print(\"The average of X for these trials was <X>= {:.4f}.\".format(avgX))\n"
   ]
  }
 ],
 "metadata": {
  "kernelspec": {
   "display_name": "Python 3 (ipykernel)",
   "language": "python",
   "name": "python3"
  },
  "language_info": {
   "codemirror_mode": {
    "name": "ipython",
    "version": 3
   },
   "file_extension": ".py",
   "mimetype": "text/x-python",
   "name": "python",
   "nbconvert_exporter": "python",
   "pygments_lexer": "ipython3",
   "version": "3.8.8"
  }
 },
 "nbformat": 4,
 "nbformat_minor": 5
}

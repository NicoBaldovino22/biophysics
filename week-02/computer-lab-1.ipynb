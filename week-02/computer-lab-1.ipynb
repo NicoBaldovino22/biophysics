{
 "cells": [
  {
   "cell_type": "markdown",
   "id": "b7cf91a4",
   "metadata": {},
   "source": [
    "# Computer Lab 1\n",
    "\n",
    "Work through the first half of \"First Computer Lab\" (Section 5.1) in _A Student's Guide to Python._  This exercise ties together everything we did in Week 1.\n",
    "\n",
    "You can use this notebook to store your code, plots, and notes, or you can write a ___script___ (see Section 3.3) that will carry out the analysis and produce the plots, and simply write your comments in this notebook.  If you write a script, it should save your plot with the data and your best fit to a PDF in this folder when it runs."
   ]
  },
  {
   "cell_type": "markdown",
   "id": "c93d429a-ef47-474f-a697-fd8e65cf39b6",
   "metadata": {},
   "source": [
    "See \"computer-lab-1.py\" for the following script code that will carry out the analysis and produce the plots for the first half of \"First Computer Lab\" (Section 5.1) in A Student's Guide to Python.\n",
    "\n",
    "I have also added HIVseries.csv, HIVseries.npy, HIVseries.npz, and README.txt to the workspace directory (week-02) from the 01HIVseries data set inside of the PMLS Data Sets that were downloaded from the online resources found here:\n",
    "https://github.com/dr-kinder/pmls-data\n",
    "\n",
    "The script should save the generated plot with the data and best fit to a .pdf file in this folder after it runs titled \"computer-lab-1-nico-baldovino.pdf\""
   ]
  }
 ],
 "metadata": {
  "kernelspec": {
   "display_name": "Python 3 (ipykernel)",
   "language": "python",
   "name": "python3"
  },
  "language_info": {
   "codemirror_mode": {
    "name": "ipython",
    "version": 3
   },
   "file_extension": ".py",
   "mimetype": "text/x-python",
   "name": "python",
   "nbconvert_exporter": "python",
   "pygments_lexer": "ipython3",
   "version": "3.8.8"
  }
 },
 "nbformat": 4,
 "nbformat_minor": 5
}

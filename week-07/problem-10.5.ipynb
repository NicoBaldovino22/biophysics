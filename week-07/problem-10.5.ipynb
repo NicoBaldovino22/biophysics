{
 "cells": [
  {
   "cell_type": "markdown",
   "id": "c59005a3",
   "metadata": {},
   "source": [
    "# 10.5 AVERAGE OVER MANY DRAWS\n",
    "\n",
    "Use this notebook to store your work for this problem."
   ]
  },
  {
   "cell_type": "code",
   "execution_count": 2,
   "id": "a53b67ec",
   "metadata": {},
   "outputs": [],
   "source": [
    "import numpy as np\n",
    "import matplotlib.pyplot as plt\n",
    "from numpy.random import default_rng\n",
    "rand = default_rng().random"
   ]
  },
  {
   "cell_type": "code",
   "execution_count": 3,
   "id": "26f66917-b8b9-4133-90a6-231612f6d641",
   "metadata": {},
   "outputs": [
    {
     "data": {
      "image/png": "[encoded data removed]",
      "text/plain": [
       "<Figure size 432x288 with 1 Axes>"
      ]
     },
     "metadata": {
      "needs_background": "light"
     },
     "output_type": "display_data"
    }
   ],
   "source": [
    "# Gillespie algorithm\n",
    "\n",
    "l0 = 0\n",
    "beta_birth = 1\n",
    "k_death = 0.3\n",
    "\n",
    "N = 150\n",
    "\n",
    "l = l0\n",
    "T = 0\n",
    "\n",
    "for n in range(N):\n",
    "    rate = beta_birth + k_death * l\n",
    "    t = - 1/rate * np.log(rand())\n",
    "    xi = beta_birth / rate\n",
    "    event = rand() < xi\n",
    "    if event:\n",
    "        l = l+1\n",
    "    else:\n",
    "        l = l-1\n",
    "    T = T+t\n",
    "    plt.plot(T,l,'.')"
   ]
  },
  {
   "cell_type": "markdown",
   "id": "197fe167",
   "metadata": {},
   "source": [
    "***REPLACE WITH YOUR COMMENTS.***"
   ]
  }
 ],
 "metadata": {
  "kernelspec": {
   "display_name": "Python 3 (ipykernel)",
   "language": "python",
   "name": "python3"
  },
  "language_info": {
   "codemirror_mode": {
    "name": "ipython",
    "version": 3
   },
   "file_extension": ".py",
   "mimetype": "text/x-python",
   "name": "python",
   "nbconvert_exporter": "python",
   "pygments_lexer": "ipython3",
   "version": "3.8.8"
  }
 },
 "nbformat": 4,
 "nbformat_minor": 5
}

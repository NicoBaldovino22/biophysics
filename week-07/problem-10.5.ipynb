{
 "cells": [
  {
   "cell_type": "markdown",
   "id": "c59005a3",
   "metadata": {},
   "source": [
    "# 10.5 AVERAGE OVER MANY DRAWS\n",
    "\n",
    "Use this notebook to store your work for this problem."
   ]
  },
  {
   "cell_type": "code",
   "execution_count": 1,
   "id": "a53b67ec",
   "metadata": {},
   "outputs": [],
   "source": [
    "import numpy as np\n",
    "import matplotlib.pyplot as plt\n",
    "from numpy.random import default_rng\n",
    "rand = default_rng().random"
   ]
  },
  {
   "cell_type": "code",
   "execution_count": null,
   "id": "26f66917-b8b9-4133-90a6-231612f6d641",
   "metadata": {},
   "outputs": [],
   "source": [
    "# Using Poisson Process with mean rate \"beta\" and the strategy from Ch. 10.2.2 to simulate a random walk in 1D\n",
    "beta = 1 # S^-1 or Per Second\n",
    "L = 1 # micrometer = 1E-6 meter\n",
    "T = 400 # Seconds\n",
    "\n",
    "dx =  # Each step is in a randomly chosen direction either forward or backward with equal probabilities"
   ]
  },
  {
   "cell_type": "markdown",
   "id": "197fe167",
   "metadata": {},
   "source": [
    "***REPLACE WITH YOUR COMMENTS.***"
   ]
  }
 ],
 "metadata": {
  "kernelspec": {
   "display_name": "Python 3 (ipykernel)",
   "language": "python",
   "name": "python3"
  },
  "language_info": {
   "codemirror_mode": {
    "name": "ipython",
    "version": 3
   },
   "file_extension": ".py",
   "mimetype": "text/x-python",
   "name": "python",
   "nbconvert_exporter": "python",
   "pygments_lexer": "ipython3",
   "version": "3.8.8"
  }
 },
 "nbformat": 4,
 "nbformat_minor": 5
}

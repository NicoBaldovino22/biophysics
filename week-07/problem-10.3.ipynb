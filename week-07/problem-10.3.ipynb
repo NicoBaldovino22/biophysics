{
 "cells": [
  {
   "cell_type": "markdown",
   "id": "014e2bd5",
   "metadata": {},
   "source": [
    "# 10.3 RANDOM WALK WITH RANDOM WAITING TIMES\n",
    "\n",
    "Use this notebook to store your work for this problem."
   ]
  },
  {
   "cell_type": "markdown",
   "id": "5610b9f6",
   "metadata": {},
   "source": [
    "## (a)"
   ]
  },
  {
   "cell_type": "code",
   "execution_count": 5,
   "id": "fe0178a3-7496-42f4-b573-db946659f629",
   "metadata": {},
   "outputs": [],
   "source": [
    "import numpy as np\n",
    "import matplotlib.pyplot as plt\n",
    "from numpy.random import default_rng\n",
    "rand = default_rng().random"
   ]
  },
  {
   "cell_type": "code",
   "execution_count": 7,
   "id": "e4652950-b514-45b3-9f15-e3e9fa25c40e",
   "metadata": {},
   "outputs": [
    {
     "name": "stdout",
     "output_type": "stream",
     "text": [
      "1e-06\n"
     ]
    }
   ],
   "source": [
    "# Using Poisson Process with mean rate \"beta\" and the strategy from Ch. 10.2.2 to simulate a random walk in 1D\n",
    "beta = 1 # S^-1 or Per Second\n",
    "L = 10**-6 # micrometer = 1E-6 meter\n",
    "T = 400 # Seconds\n",
    "\n",
    " # Each step is in a randomly chosen direction either left or right with equal probabilities"
   ]
  },
  {
   "cell_type": "markdown",
   "id": "377db16d",
   "metadata": {},
   "source": [
    "## (b)"
   ]
  },
  {
   "cell_type": "code",
   "execution_count": null,
   "id": "9f51aa34",
   "metadata": {},
   "outputs": [],
   "source": []
  },
  {
   "cell_type": "markdown",
   "id": "4deb8b4c",
   "metadata": {},
   "source": [
    "## (c)"
   ]
  },
  {
   "cell_type": "code",
   "execution_count": null,
   "id": "bdfbd33b",
   "metadata": {},
   "outputs": [],
   "source": []
  },
  {
   "cell_type": "markdown",
   "id": "88aef6f2",
   "metadata": {},
   "source": [
    "## (d)"
   ]
  },
  {
   "cell_type": "code",
   "execution_count": null,
   "id": "1e29b033",
   "metadata": {},
   "outputs": [],
   "source": []
  },
  {
   "cell_type": "markdown",
   "id": "20866a49",
   "metadata": {},
   "source": [
    "## (e)"
   ]
  },
  {
   "cell_type": "code",
   "execution_count": null,
   "id": "ba53306b",
   "metadata": {},
   "outputs": [],
   "source": []
  }
 ],
 "metadata": {
  "kernelspec": {
   "display_name": "Python 3 (ipykernel)",
   "language": "python",
   "name": "python3"
  },
  "language_info": {
   "codemirror_mode": {
    "name": "ipython",
    "version": 3
   },
   "file_extension": ".py",
   "mimetype": "text/x-python",
   "name": "python",
   "nbconvert_exporter": "python",
   "pygments_lexer": "ipython3",
   "version": "3.8.8"
  }
 },
 "nbformat": 4,
 "nbformat_minor": 5
}

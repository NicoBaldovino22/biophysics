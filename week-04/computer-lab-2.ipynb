{
 "cells": [
  {
   "cell_type": "markdown",
   "id": "b7cf91a4",
   "metadata": {},
   "source": [
    "# Computer Lab 2\n",
    "\n",
    "Work through the \"Second Computer Lab\" (Chapter 7) in _A Student's Guide to Python._  This exercise illustrates how to carry out \"numerical experiments\" to explore theoretical models.\n",
    "\n",
    "You can use this notebook to store your code, plots, and notes, or you can write a ___script___ (see Section 3.3) that will carry out the analysis and produce the plots, and simply write your comments and observations in this notebook.  If you write a script, it should save your plot with the data and your best fit to a PDF, JPG, or PNG in this folder when it runs."
   ]
  },
  {
   "cell_type": "markdown",
   "id": "65aa7ebd-f6d1-4489-9f74-a50ddc5f6bfb",
   "metadata": {},
   "source": [
    "See \"computer-lab-2.py\" for the following script code that will carry out the analysis and produce the plots for the first half of \"Second Computer Lab\" (Section 7.1-2) in A Student's Guide to Python.\n",
    "\n",
    "The script should save the generated histographs with the data and best fit to a .pdf file in this folder after it runs titled \"computer-lab-2-7.#-nico-baldovino.pdf\" (where # is the figure's section and problem number). A compiled .pdf file is also located within the 'week-04' module that contains all of these graphical representations in one file titled 'computer-lab-2-graphs-nico-baldovino.pdf'"
   ]
  },
  {
   "cell_type": "code",
   "execution_count": null,
   "id": "435a5e87-a782-4811-b001-aaf0564f8373",
   "metadata": {},
   "outputs": [],
   "source": []
  }
 ],
 "metadata": {
  "kernelspec": {
   "display_name": "Python 3 (ipykernel)",
   "language": "python",
   "name": "python3"
  },
  "language_info": {
   "codemirror_mode": {
    "name": "ipython",
    "version": 3
   },
   "file_extension": ".py",
   "mimetype": "text/x-python",
   "name": "python",
   "nbconvert_exporter": "python",
   "pygments_lexer": "ipython3",
   "version": "3.8.8"
  }
 },
 "nbformat": 4,
 "nbformat_minor": 5
}

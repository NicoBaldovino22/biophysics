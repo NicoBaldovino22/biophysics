{
 "cells": [
  {
   "cell_type": "markdown",
   "id": "100e1937-de9d-474d-acbb-b14e484cc812",
   "metadata": {
    "tags": []
   },
   "source": [
    "# Problem 4.2\n",
    "\n",
    "In the setup to this problem, you will use what you learnen in Problem 3.2; which was meant to learn how to use a random number generator and create histograms.  This material is the subject of Chapter 6 in _A Student's Guide to Python._\n",
    "\n",
    "Except this time, Jones asked the computer to generate 3000 Uniformly distributed, random binary fractions, each six bits long (see Equation 3.1, page 34 in PMLS), and made a histogram of the outcomes, obatining Figure 4.9 (bottom of page 97).\n",
    "\n",
    "This histogram doesn't look very uniform, Did Jones (or their computer) make a mistake? Let's investigate.\n",
    "\n",
    "a) Qualitatively, why isn't it surprising that the bars are not all of equal height?\n",
    "\n",
    "This is due to the fact that there exist variences in the outcome of the randomly generated binary fractions that were used to generate the histogram; therfore, there are different probabilities of certain values being a result."
   ]
  },
  {
   "cell_type": "code",
   "execution_count": 3,
   "id": "f3f13de7-88e6-40e8-8bda-605a7d8d1eb5",
   "metadata": {},
   "outputs": [],
   "source": [
    "import numpy as np\n",
    "import matplotlib.pyplot as plt\n",
    "\n",
    "# Create a random number generator\n",
    "from numpy.random import default_rng\n",
    "rng = default_rng()\n",
    "\n",
    "# Draw from the Uniform Distribution\n",
    "rand = rng.random"
   ]
  },
  {
   "cell_type": "code",
   "execution_count": 4,
   "id": "7e08af85-7e42-4ba0-8841-81ef6f5ca042",
   "metadata": {},
   "outputs": [
    {
     "name": "stdout",
     "output_type": "stream",
     "text": [
      "The 3000 random binary fractions are [0.28125  0.328125 0.703125 ... 0.796875 0.34375  0.34375 ]\n"
     ]
    }
   ],
   "source": [
    "N = 3000\n",
    "X = np.zeros(N) #creates an array consisting of 6000 zeros\n",
    "for n in range(N):\n",
    "    s = rand(6) < 0.5\n",
    "    x = np.sum(s / 2**np.arange(1,7)) #generates a six bit fraction using the mathematical formula above\n",
    "    X[n] = x #assigns each six bit fraction generated in each iteration to its corresponding index in array X\n",
    "print(\"The 3000 random binary fractions are {}\".format(X)) #prints the array consisting of the six bit fraction created in each iteration of the 'for' loop"
   ]
  },
  {
   "cell_type": "code",
   "execution_count": 6,
   "id": "ac375879-d71d-40b9-9316-e9ce32033531",
   "metadata": {},
   "outputs": [
    {
     "name": "stdout",
     "output_type": "stream",
     "text": [
      "1471.296875\n"
     ]
    },
    {
     "data": {
      "image/png": "[encoded data removed]",
      "text/plain": [
       "<Figure size 432x288 with 1 Axes>"
      ]
     },
     "metadata": {
      "needs_background": "light"
     },
     "output_type": "display_data"
    }
   ],
   "source": [
    "plt.hist(X);\n",
    "s = np.sum(X)\n",
    "print(s)"
   ]
  },
  {
   "cell_type": "code",
   "execution_count": null,
   "id": "0947d9b1-10f5-4690-a332-4c6e62ebeb6b",
   "metadata": {},
   "outputs": [],
   "source": []
  }
 ],
 "metadata": {
  "kernelspec": {
   "display_name": "Python 3 (ipykernel)",
   "language": "python",
   "name": "python3"
  },
  "language_info": {
   "codemirror_mode": {
    "name": "ipython",
    "version": 3
   },
   "file_extension": ".py",
   "mimetype": "text/x-python",
   "name": "python",
   "nbconvert_exporter": "python",
   "pygments_lexer": "ipython3",
   "version": "3.8.8"
  }
 },
 "nbformat": 4,
 "nbformat_minor": 5
}

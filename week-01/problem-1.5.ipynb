{
 "cells": [
  {
   "cell_type": "markdown",
   "id": "614fece8",
   "metadata": {},
   "source": [
    "# Problem 1.5\n",
    "\n",
    "This problem asks you to do several useful computational tasks:\n",
    "\n",
    "- import a data set\n",
    "- plot the data points\n",
    "- plot a function through the data points\n",
    "- adjust the parameters of a function to get a better fit\n",
    "\n",
    "Since this is only Week 1, you get more than a blank page to start with.\n",
    "\n",
    "We start the same way as always, though."
   ]
  },
  {
   "cell_type": "code",
   "execution_count": 2,
   "id": "b6120d95",
   "metadata": {},
   "outputs": [],
   "source": [
    "import numpy as np\n",
    "import matplotlib.pyplot as plt"
   ]
  },
  {
   "cell_type": "markdown",
   "id": "99e32ea2",
   "metadata": {},
   "source": [
    "## 1.5(a)\n",
    "\n",
    "We need to import the data set and plot it.  You can find the data set in the `pmls-data` repository, in `02population`.  Dr. Kinder has copied the relevant files into _this_ folder for this week, so you can focus on working with data rather than finding it.  Later, we'll learn how to find a folder anywhere on your computer.\n",
    "\n",
    "The data file is called `population.csv`.  Open the file `README.txt` to see what is in the data set.\n",
    "\n",
    "Use either `np.loadtxt` to load the data into a numpy array called `data`.  Then, split this array in two for plotting.  Use either _array slicing_ or _unpacking_."
   ]
  },
  {
   "cell_type": "code",
   "execution_count": 3,
   "id": "8a7001f8",
   "metadata": {},
   "outputs": [
    {
     "name": "stdout",
     "output_type": "stream",
     "text": [
      "[[-10000.      1.]\n",
      " [ -5000.      5.]\n",
      " [ -2000.     27.]\n",
      " [ -1000.     50.]\n",
      " [     0.    200.]\n",
      " [   500.    300.]\n",
      " [  1000.    400.]\n",
      " [  1500.    500.]\n",
      " [  1650.    600.]\n",
      " [  1750.    750.]\n",
      " [  1800.    900.]\n",
      " [  1810.   1000.]\n",
      " [  1850.   1171.]\n",
      " [  1900.   1608.]\n",
      " [  1920.   1834.]\n",
      " [  1930.   2008.]\n",
      " [  1940.   2216.]\n",
      " [  1950.   2406.]\n",
      " [  1960.   2972.]\n",
      " [  1970.   3700.]\n",
      " [  1980.   4400.]\n",
      " [  1990.   5100.]\n",
      " [  1997.   5852.]\n",
      " [  2000.   6080.]\n",
      " [  2005.   6450.]]\n",
      "\n",
      " Date in Years CE = [-10000.  -5000.  -2000.  -1000.      0.    500.   1000.   1500.   1650.\n",
      "   1750.   1800.   1810.   1850.   1900.   1920.   1930.   1940.   1950.\n",
      "   1960.   1970.   1980.   1990.   1997.   2000.   2005.]\n",
      "\n",
      " Estimated World Population, in Millions = [   1.    5.   27.   50.  200.  300.  400.  500.  600.  750.  900. 1000.\n",
      " 1171. 1608. 1834. 2008. 2216. 2406. 2972. 3700. 4400. 5100. 5852. 6080.\n",
      " 6450.]\n"
     ]
    }
   ],
   "source": [
    "# Load the array.\n",
    "data = np.loadtxt('population.csv', delimiter=',')\n",
    "np.set_printoptions(suppress=True)\n",
    "print(data)\n",
    "\n",
    "# Put each column into a separate array.\n",
    "N = np.size(data, 0)\n",
    "Time = data[0:N:1, 0]\n",
    "Population = data[0:N:1, 1]\n",
    "print('\\n Date in Years CE =', Time)\n",
    "print('\\n Estimated World Population, in Millions =', Population)"
   ]
  },
  {
   "cell_type": "markdown",
   "id": "c01fc7a7",
   "metadata": {},
   "source": [
    "Plot the data points.  (Use points, instead of a line.  This is a convention that indicates you are plotting actual data, not a theoretical prediction or a mathematical function.)  Label the axes, and include units."
   ]
  },
  {
   "cell_type": "code",
   "execution_count": null,
   "id": "07be251f",
   "metadata": {},
   "outputs": [],
   "source": []
  },
  {
   "cell_type": "markdown",
   "id": "27725ec0",
   "metadata": {},
   "source": [
    "## 1.5(b)\n",
    "\n",
    "Now we are going to plot the data points and a model on the same axes.\n",
    "\n",
    "To plot the function, create an array for a variable `t` that covers the relevant time interval (using `np.linspace`), and an array called `f` that contains the values of the function."
   ]
  },
  {
   "cell_type": "code",
   "execution_count": null,
   "id": "f49a9ee2",
   "metadata": {},
   "outputs": [],
   "source": [
    "t = \n",
    "f = "
   ]
  },
  {
   "cell_type": "markdown",
   "id": "de76eb0d",
   "metadata": {},
   "source": [
    "Now, plot the data again --- as points.  On the same axes, plot the function given in the problem --- as a line.  Include a legend in your plot, and label the axes."
   ]
  },
  {
   "cell_type": "code",
   "execution_count": null,
   "id": "36c8853e",
   "metadata": {},
   "outputs": [],
   "source": []
  },
  {
   "cell_type": "markdown",
   "id": "3b8c33b3",
   "metadata": {},
   "source": [
    "The function is of the general form $f(t) = \\dfrac{A}{B-t}$.  Use the cell below to experiment with different parameter values for the model function and try to get a better fit to the data.  Repeatedly change the values of `A` and `B` below and run the cell to see different plots.\n",
    "\n",
    "Leave your best looking fit in the cell when you submit your final version of this problem to GitHub."
   ]
  },
  {
   "cell_type": "code",
   "execution_count": null,
   "id": "ccb40f0c",
   "metadata": {},
   "outputs": [],
   "source": [
    "A = \n",
    "B = \n",
    "f = A/(B-t)\n",
    "\n",
    "# Copy your plotting code from the cell above here."
   ]
  },
  {
   "cell_type": "markdown",
   "id": "0b7e54e0",
   "metadata": {},
   "source": [
    "## 1.5(c)\n",
    "\n",
    "From the text of the problem ...\n",
    "\n",
    "> Do you think this is a good model for the data? That is, does it tell us anything interesting beyond roughly reproducing the data points? Does it have any obvious limitations on its domain of validity? Explain.\n",
    "\n",
    "Type your thoughts in the cell below.\n",
    "\n",
    "-----"
   ]
  },
  {
   "cell_type": "markdown",
   "id": "9a7592a7",
   "metadata": {},
   "source": []
  }
 ],
 "metadata": {
  "kernelspec": {
   "display_name": "Python 3 (ipykernel)",
   "language": "python",
   "name": "python3"
  },
  "language_info": {
   "codemirror_mode": {
    "name": "ipython",
    "version": 3
   },
   "file_extension": ".py",
   "mimetype": "text/x-python",
   "name": "python",
   "nbconvert_exporter": "python",
   "pygments_lexer": "ipython3",
   "version": "3.8.8"
  }
 },
 "nbformat": 4,
 "nbformat_minor": 5
}

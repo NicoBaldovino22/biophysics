{
 "cells": [
  {
   "cell_type": "markdown",
   "id": "f2a62c00-031c-40b5-a07f-bb8dba8d7e13",
   "metadata": {},
   "source": [
    "# Chapter 8: Cryo-Electron Microscopy\n",
    "\n",
    "Excursion: Single Particle Reconstruction in Cryo-Electron Microscopy"
   ]
  },
  {
   "cell_type": "markdown",
   "id": "768d062f-6fb8-462b-b186-d99c48a1ab31",
   "metadata": {},
   "source": [
    "# Problem 8.1 - 1D, Alignment via Correlation"
   ]
  },
  {
   "cell_type": "code",
   "execution_count": 2,
   "id": "ee486de5-5d10-4a7d-8d80-a47d55a875c8",
   "metadata": {},
   "outputs": [],
   "source": [
    "import numpy as np\n",
    "import matplotlib.pyplot as plt"
   ]
  },
  {
   "cell_type": "code",
   "execution_count": 21,
   "id": "0f9a7e6c-b7b6-48f1-953f-0d179774cbed",
   "metadata": {},
   "outputs": [
    {
     "data": {
      "text/plain": [
       "(-0.5, 84.5, 84.5, -0.5)"
      ]
     },
     "execution_count": 21,
     "metadata": {},
     "output_type": "execute_result"
    },
    {
     "data": {
      "image/png": "[encoded data removed]",
      "text/plain": [
       "<Figure size 432x288 with 1 Axes>"
      ]
     },
     "metadata": {
      "needs_background": "light"
     },
     "output_type": "display_data"
    }
   ],
   "source": [
    "# Bringing the Reference Image data into the program using plt.imread and reshaping data to plot using plt.imshow\n",
    "ref_im = plt.imread('test2Dblur.tif')\n",
    "ref_im.shape\n",
    "ref_im.dtype\n",
    "ref_im[:10,:10]\n",
    "\n",
    "# Plotting the reference image being used\n",
    "plt.figure('Reference Image')\n",
    "plt.title('Reference Image')\n",
    "plt.imshow(ref_im)\n",
    "plt.axis('off')"
   ]
  },
  {
   "cell_type": "code",
   "execution_count": 18,
   "id": "96193cd9-ded8-458c-b247-88883adc9277",
   "metadata": {},
   "outputs": [
    {
     "data": {
      "text/plain": [
       "['samples', 'noiselevels', 'shiftSD']"
      ]
     },
     "execution_count": 18,
     "metadata": {},
     "output_type": "execute_result"
    }
   ],
   "source": [
    "file = np.load('1dImages.npz')\n",
    "file.files\n",
    "\n",
    "# 1dImages.npz: contains variables:\n",
    "#  noiselevels = array containing 1/sqrt(SNR) for each of 3 simulated datasets\n",
    "#  shiftSD = how many pixels to jitter the fake data\n",
    "#  samples = 3D array containing simulated images\n",
    "#\t samples[i,j,k] where i=which image, j = position in image, k = which noiselevel"
   ]
  },
  {
   "cell_type": "code",
   "execution_count": 19,
   "id": "535aea22-6690-422e-8256-6d49c0228b83",
   "metadata": {},
   "outputs": [
    {
     "name": "stdout",
     "output_type": "stream",
     "text": [
      "Samples = [[[-0.34891339 -0.1744567  -0.04361418]\n",
      "  [ 1.23325128  0.61662566  0.15415645]\n",
      "  [-3.9701316  -1.98506588 -0.49626659]\n",
      "  ...\n",
      "  [-1.44030302 -0.72015155 -0.18003794]\n",
      "  [-2.17315362 -1.0865768  -0.27164418]\n",
      "  [ 0.6120713   0.30603565  0.07650891]]\n",
      "\n",
      " [[ 0.30164451  0.02627636 -0.18024976]\n",
      "  [-1.39606299 -0.66465952 -0.11610692]\n",
      "  [-1.00119849 -0.50954124 -0.1407983 ]\n",
      "  ...\n",
      "  [-0.44178586 -0.22089293 -0.05522323]\n",
      "  [-0.4198908  -0.2099454  -0.05248635]\n",
      "  [ 3.64324674  1.82162337  0.45540584]]\n",
      "\n",
      " [[ 1.04237307  1.55845213  1.94551143]\n",
      "  [ 3.56336813  3.13312725  2.81044659]\n",
      "  [ 0.34124124  1.45237727  2.2857293 ]\n",
      "  ...\n",
      "  [-3.36869882 -1.68434941 -0.42108735]\n",
      "  [ 0.17679862  0.08839931  0.02209983]\n",
      "  [-0.75173389 -0.37586694 -0.09396674]]\n",
      "\n",
      " ...\n",
      "\n",
      " [[ 2.48715621  1.24376507  0.31122171]\n",
      "  [-0.43520711 -0.21830131 -0.05562195]\n",
      "  [ 0.04489534  0.02505171  0.01016899]\n",
      "  ...\n",
      "  [ 2.70927792  1.35463896  0.33865974]\n",
      "  [-0.19784718 -0.09892359 -0.0247309 ]\n",
      "  [ 0.58714063  0.29357031  0.07339258]]\n",
      "\n",
      " [[-1.45370191 -0.72685004 -0.18171115]\n",
      "  [ 1.30926286  0.65462804  0.16365192]\n",
      "  [ 2.51203832  1.25603183  0.31402695]\n",
      "  ...\n",
      "  [-1.61445838 -0.80722919 -0.2018073 ]\n",
      "  [-2.27377995 -1.13688998 -0.28422249]\n",
      "  [ 1.92641537  0.96320769  0.24080192]]\n",
      "\n",
      " [[ 1.30871882  0.68317693  0.21402051]\n",
      "  [-0.0903844  -0.15274065 -0.19950783]\n",
      "  [ 2.60269114  1.77854776  1.16044023]\n",
      "  ...\n",
      "  [-0.16965968 -0.08482984 -0.02120746]\n",
      "  [-0.04140723 -0.02070361 -0.0051759 ]\n",
      "  [ 1.62390966  0.81195483  0.20298871]]] \n",
      "\n",
      "Noise Levels = [2.   1.   0.25] \n",
      "\n",
      "ShiftSD = 6\n"
     ]
    }
   ],
   "source": [
    "# Splitting the .npz file, I was able to pull out the following variables:\n",
    "samples = file['samples']\n",
    "print(\"Samples = {} \\n\".format(samples))\n",
    "\n",
    "noise = file['noiselevels']\n",
    "print('Noise Levels = {} \\n'.format(noise))\n",
    "\n",
    "shift = file['shiftSD']\n",
    "print('ShiftSD = {}'.format(shift))"
   ]
  },
  {
   "cell_type": "code",
   "execution_count": 108,
   "id": "a7232a83-6342-423a-bcf7-917f6a74c121",
   "metadata": {},
   "outputs": [
    {
     "name": "stdout",
     "output_type": "stream",
     "text": [
      "Which Image = \n",
      " [[-0.34891339 -0.1744567  -0.04361418]\n",
      " [ 0.30164451  0.02627636 -0.18024976]\n",
      " [ 1.04237307  1.55845213  1.94551143]\n",
      " ...\n",
      " [ 2.48715621  1.24376507  0.31122171]\n",
      " [-1.45370191 -0.72685004 -0.18171115]\n",
      " [ 1.30871882  0.68317693  0.21402051]] \n",
      "\n",
      "\n",
      "Position in Image = \n",
      " [[ 1.23325128  0.61662566  0.15415645]\n",
      " [-1.39606299 -0.66465952 -0.11610692]\n",
      " [ 3.56336813  3.13312725  2.81044659]\n",
      " ...\n",
      " [-0.43520711 -0.21830131 -0.05562195]\n",
      " [ 1.30926286  0.65462804  0.16365192]\n",
      " [-0.0903844  -0.15274065 -0.19950783]] \n",
      "\n",
      "\n",
      "Which Noise Level = \n",
      " [[-3.9701316  -1.98506588 -0.49626659]\n",
      " [-1.00119849 -0.50954124 -0.1407983 ]\n",
      " [ 0.34124124  1.45237727  2.2857293 ]\n",
      " ...\n",
      " [ 0.04489534  0.02505171  0.01016899]\n",
      " [ 2.51203832  1.25603183  0.31402695]\n",
      " [ 2.60269114  1.77854776  1.16044023]] \n",
      "\n",
      "\n",
      "Which Image: \n",
      " [-0.04361418 -0.18024976  1.94551143 ...  0.31122171 -0.18171115\n",
      "  0.21402051] \n",
      "\n",
      " [-0.1744567   0.02627636  1.55845213 ...  1.24376507 -0.72685004\n",
      "  0.68317693] \n",
      "\n",
      " [-0.34891339  0.30164451  1.04237307 ...  2.48715621 -1.45370191\n",
      "  1.30871882] \n",
      "\n",
      "\n",
      "Position in Image: \n",
      " [ 0.15415645 -0.11610692  2.81044659 ... -0.05562195  0.16365192\n",
      " -0.19950783] \n",
      "\n",
      " [ 0.61662566 -0.66465952  3.13312725 ... -0.21830131  0.65462804\n",
      " -0.15274065] \n",
      "\n",
      " [ 1.23325128 -1.39606299  3.56336813 ... -0.43520711  1.30926286\n",
      " -0.0903844 ] \n",
      "\n",
      "\n",
      "Which Noise Level: \n",
      " [-0.49626659 -0.1407983   2.2857293  ...  0.01016899  0.31402695\n",
      "  1.16044023] \n",
      "\n",
      " [-1.98506588 -0.50954124  1.45237727 ...  0.02505171  1.25603183\n",
      "  1.77854776] \n",
      "\n",
      " [-3.9701316  -1.00119849  0.34124124 ...  0.04489534  2.51203832\n",
      "  2.60269114] \n",
      "\n",
      "\n"
     ]
    }
   ],
   "source": [
    "# Splicing the 'samples' variable array into their i,j,k sub-variables when,\n",
    "#   {samples[i,j,k] where i=which image, j = position in image, k = which noiselevel}\n",
    "i = samples[:,0] # Which Image \n",
    "j = samples[:,1] # Position in Image\n",
    "k = samples[:,2] # Which Noise Level\n",
    "print('Which Image = \\n',i, '\\n\\n')\n",
    "print('Position in Image = \\n',j, '\\n\\n')\n",
    "print('Which Noise Level = \\n',k, '\\n\\n')\n",
    "\n",
    "# Pulling out the data set for each noise level\n",
    "# Which Image\n",
    "lsample_i = i[:,0] # large noise sample size = 2\n",
    "msample_i = i[:,1] # Medium noise sample size = 1\n",
    "ssample_i = i[:,2] # Small noise sample size = 0.25\n",
    "print('Which Image: \\n',ssample_i,'\\n\\n',msample_i,'\\n\\n', lsample_i,'\\n\\n')\n",
    "\n",
    "# Position of Image\n",
    "lsample_j = j[:,0]\n",
    "msample_j = j[:,1]\n",
    "ssample_j = j[:,2]\n",
    "print('Position in Image: \\n',ssample_j,'\\n\\n',msample_j,'\\n\\n', lsample_j,'\\n\\n')\n",
    "\n",
    "# Which Noise Level\n",
    "lsample_k = k[:,0]\n",
    "msample_k = k[:,1]\n",
    "ssample_k = k[:,2]\n",
    "print('Which Noise Level: \\n',ssample_k,'\\n\\n',msample_k,'\\n\\n', lsample_k,'\\n\\n')"
   ]
  },
  {
   "cell_type": "code",
   "execution_count": 118,
   "id": "d6fc7f3e-1d50-4204-a12a-133c41fc0d71",
   "metadata": {},
   "outputs": [
    {
     "name": "stdout",
     "output_type": "stream",
     "text": [
      "0.25\n",
      "[   1    2    3 ... 1498 1499 1500]\n"
     ]
    },
    {
     "data": {
      "image/png": "[encoded data removed]",
      "text/plain": [
       "<Figure size 432x288 with 1 Axes>"
      ]
     },
     "metadata": {
      "needs_background": "light"
     },
     "output_type": "display_data"
    }
   ],
   "source": [
    "# For the lowest noise level, find the naive average of each pixel over samples and call it \"Template\"\n",
    "min_noise = np.min(noise)\n",
    "print(min_noise)\n",
    "\n",
    "N = np.size(ssample_i)\n",
    "n = np.arange(1,N+1)\n",
    "n_ave = ssample_i.cumsum()/n\n",
    "print(n)\n",
    "\n",
    "\n",
    "plt.figure()\n",
    "plt.plot(n,n_ave, 'b-');\n",
    "#plt.plot(np.cumsum(np.ones(np.size(i[:,2]))), i[:,2], 'b.');"
   ]
  },
  {
   "cell_type": "code",
   "execution_count": null,
   "id": "17d9c48a-5ec9-4a8d-9b61-cfa68871feed",
   "metadata": {},
   "outputs": [],
   "source": []
  }
 ],
 "metadata": {
  "kernelspec": {
   "display_name": "Python 3 (ipykernel)",
   "language": "python",
   "name": "python3"
  },
  "language_info": {
   "codemirror_mode": {
    "name": "ipython",
    "version": 3
   },
   "file_extension": ".py",
   "mimetype": "text/x-python",
   "name": "python",
   "nbconvert_exporter": "python",
   "pygments_lexer": "ipython3",
   "version": "3.8.8"
  }
 },
 "nbformat": 4,
 "nbformat_minor": 5
}

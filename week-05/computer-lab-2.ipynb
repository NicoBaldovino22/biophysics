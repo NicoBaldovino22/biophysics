{
 "cells": [
  {
   "cell_type": "markdown",
   "id": "b7cf91a4",
   "metadata": {},
   "source": [
    "# Computer Lab 2 — continued ...\n",
    "\n",
    "Work through Part 3 of the \"Second Computer Lab\" (Chapter 7) in _A Student's Guide to Python._  This exercise focuses on the Poisson distribution and waiting times.\n",
    "\n",
    "You can use this notebook to store your code, plots, and notes, or you can write a ___script___ (see Section 3.3) that will carry out the analysis and produce the plots, and simply write your comments and observations in this notebook.  If you write a script, it should save your plot with the data and your best fit to a PDF, JPG, or PNG in this folder when it runs."
   ]
  },
  {
   "cell_type": "markdown",
   "id": "6ca005da-cad0-447b-b97d-b8ddd32ae0d5",
   "metadata": {},
   "source": [
    "See \"computer-lab-2-continued.py\" for the following script code that will carry out the analysis and produce the plots for the last half of \"Second Computer Lab\" (Section 7.3) in A Student's Guide to Python.\n",
    "\n",
    "The script should save the generated scatterplots and histograms with the data and best fit to a .pdf file in this folder after it runs titled \"computer-lab-2-7.#-nico-baldovino.pdf\" (where # is the figure's section and/or problem number associated to the graphs inside the file). A compiled .pdf file is also located within the 'week-05' module that contains all of these graphical representations in one file titled \"computer-lab-2-graphs-nico-baldovino.pdf\""
   ]
  },
  {
   "cell_type": "code",
   "execution_count": null,
   "id": "4afd9728-d647-4387-a423-c78cb696be40",
   "metadata": {},
   "outputs": [],
   "source": []
  }
 ],
 "metadata": {
  "kernelspec": {
   "display_name": "Python 3 (ipykernel)",
   "language": "python",
   "name": "python3"
  },
  "language_info": {
   "codemirror_mode": {
    "name": "ipython",
    "version": 3
   },
   "file_extension": ".py",
   "mimetype": "text/x-python",
   "name": "python",
   "nbconvert_exporter": "python",
   "pygments_lexer": "ipython3",
   "version": "3.8.8"
  }
 },
 "nbformat": 4,
 "nbformat_minor": 5
}

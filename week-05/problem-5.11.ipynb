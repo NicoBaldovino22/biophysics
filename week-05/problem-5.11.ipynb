{
 "cells": [
  {
   "cell_type": "markdown",
   "id": "b7b17d78",
   "metadata": {},
   "source": [
    "# Problem 5.11\n",
    "\n",
    "Use this notebook to present your work on the problem.  If you write scripts, store them in this folder and run them within this notebook to produce the requested histograms and graphs."
   ]
  },
  {
   "cell_type": "markdown",
   "id": "482f03dd",
   "metadata": {},
   "source": [
    "## (a) Sums of random variables\n",
    "\n",
    "Write Python code to generate a histogram of 50,000 samples of a random variable $y = x_1 + x_2$ where $x_1$ and $x_2$ are random variables drawn from the uniform distribution over $[-1/2, 1/2]$.  Superimpose a plot of the expected probability distribution function for this variable."
   ]
  },
  {
   "cell_type": "code",
   "execution_count": 2,
   "id": "9245f3b5",
   "metadata": {},
   "outputs": [
    {
     "data": {
      "text/plain": [
       "Text(0.5, 1.0, '\\n Histogram of two arrays of 50,000 randomly generated numbers')"
      ]
     },
     "execution_count": 2,
     "metadata": {},
     "output_type": "execute_result"
    },
    {
     "data": {
      "image/png": "[encoded data removed]",
      "text/plain": [
       "<Figure size 432x288 with 1 Axes>"
      ]
     },
     "metadata": {
      "needs_background": "light"
     },
     "output_type": "display_data"
    }
   ],
   "source": [
    "import numpy as np\n",
    "import matplotlib.pyplot as plt\n",
    "from numpy.random import default_rng\n",
    "rand = default_rng().random\n",
    "\n",
    "N = 50000 # declares how many randomly generated numbers there will be\n",
    "x1 = rand(N) - 0.5 #changes the range of the randomly generated numbers from 0 to 1 TO -0.5 to 0.5\n",
    "x2 = rand(N) - 0.5\n",
    "y = x1 + x2 # sums the two arrays of 50,000 randomly generated numbers\n",
    "plt.hist(y, bins=10) #plots a histogram of y with a base of 10 evenly spaced bins\n",
    "plt.title('\\n Histogram of two arrays of 50,000 randomly generated numbers')"
   ]
  },
  {
   "cell_type": "markdown",
   "id": "9e375d57",
   "metadata": {},
   "source": [
    "Write Python code to generate a histogram of 50,000 samples of a random variable $y = x_1 + x_2 + x_3 + x_4$ where $x_n$ are random variables drawn from the uniform distribution over $[-1/2, 1/2]$.  Superimpose a plot of the expected probability distribution function for this variable."
   ]
  },
  {
   "cell_type": "code",
   "execution_count": 124,
   "id": "db7224e3",
   "metadata": {},
   "outputs": [
    {
     "name": "stdout",
     "output_type": "stream",
     "text": [
      "[ 0.18994491 -0.28702988 -0.55209512 ...  0.84522128  1.10410435\n",
      "  0.00783593]\n"
     ]
    },
    {
     "data": {
      "text/plain": [
       "(array([   3.,    2.,    2.,    8.,    8.,   19.,   25.,   23.,   31.,\n",
       "          44.,   45.,   59.,   84.,   94.,   89.,  123.,  147.,  156.,\n",
       "         173.,  214.,  236.,  246.,  271.,  342.,  344.,  407.,  442.,\n",
       "         476.,  561.,  616.,  617.,  677.,  659.,  737.,  768.,  858.,\n",
       "         900.,  895.,  971., 1027., 1075., 1093., 1129., 1137., 1175.,\n",
       "        1245., 1194., 1209., 1221., 1259., 1185., 1277., 1220., 1160.,\n",
       "        1248., 1204., 1217., 1136., 1081.,  998., 1039.,  954.,  925.,\n",
       "         933.,  852.,  748.,  694.,  682.,  675.,  550.,  584.,  489.,\n",
       "         479.,  413.,  412.,  378.,  329.,  262.,  272.,  217.,  177.,\n",
       "         190.,  148.,  116.,  123.,   93.,   93.,   65.,   50.,   47.,\n",
       "          39.,   29.,   23.,   14.,   17.,   11.,    5.,    2.,    3.,\n",
       "           6.]),\n",
       " array([-1.85461099, -1.81743858, -1.78026617, -1.74309377, -1.70592136,\n",
       "        -1.66874895, -1.63157654, -1.59440413, -1.55723172, -1.52005931,\n",
       "        -1.48288691, -1.4457145 , -1.40854209, -1.37136968, -1.33419727,\n",
       "        -1.29702486, -1.25985246, -1.22268005, -1.18550764, -1.14833523,\n",
       "        -1.11116282, -1.07399041, -1.03681801, -0.9996456 , -0.96247319,\n",
       "        -0.92530078, -0.88812837, -0.85095596, -0.81378355, -0.77661115,\n",
       "        -0.73943874, -0.70226633, -0.66509392, -0.62792151, -0.5907491 ,\n",
       "        -0.5535767 , -0.51640429, -0.47923188, -0.44205947, -0.40488706,\n",
       "        -0.36771465, -0.33054224, -0.29336984, -0.25619743, -0.21902502,\n",
       "        -0.18185261, -0.1446802 , -0.10750779, -0.07033539, -0.03316298,\n",
       "         0.00400943,  0.04118184,  0.07835425,  0.11552666,  0.15269906,\n",
       "         0.18987147,  0.22704388,  0.26421629,  0.3013887 ,  0.33856111,\n",
       "         0.37573352,  0.41290592,  0.45007833,  0.48725074,  0.52442315,\n",
       "         0.56159556,  0.59876797,  0.63594037,  0.67311278,  0.71028519,\n",
       "         0.7474576 ,  0.78463001,  0.82180242,  0.85897483,  0.89614723,\n",
       "         0.93331964,  0.97049205,  1.00766446,  1.04483687,  1.08200928,\n",
       "         1.11918168,  1.15635409,  1.1935265 ,  1.23069891,  1.26787132,\n",
       "         1.30504373,  1.34221613,  1.37938854,  1.41656095,  1.45373336,\n",
       "         1.49090577,  1.52807818,  1.56525059,  1.60242299,  1.6395954 ,\n",
       "         1.67676781,  1.71394022,  1.75111263,  1.78828504,  1.82545744,\n",
       "         1.86262985]),\n",
       " <BarContainer object of 100 artists>)"
      ]
     },
     "execution_count": 124,
     "metadata": {},
     "output_type": "execute_result"
    },
    {
     "data": {
      "image/png": "[encoded data removed]",
      "text/plain": [
       "<Figure size 432x288 with 1 Axes>"
      ]
     },
     "metadata": {
      "needs_background": "light"
     },
     "output_type": "display_data"
    }
   ],
   "source": [
    "x1 = rand(N) - 0.5\n",
    "x2 = rand(N) - 0.5\n",
    "x3 = rand(N) - 0.5\n",
    "x4 = rand(N) - 0.5\n",
    "y = x1+x2+x3+x4\n",
    "print(y)\n",
    "plt.hist(y,bins=100)"
   ]
  },
  {
   "cell_type": "markdown",
   "id": "613ae000",
   "metadata": {},
   "source": [
    "## (b) Sums of _more_ random variables\n",
    "\n",
    "Write Python code to generate a histogram of 50,000 samples of a random variable $y$ that is the sum of __10__ random variables drawn from the uniform distribution over $[-1/2, 1/2]$.  Superimpose a plot of the expected probability distribution function for this variable."
   ]
  },
  {
   "cell_type": "code",
   "execution_count": 120,
   "id": "a8357d3c",
   "metadata": {},
   "outputs": [
    {
     "name": "stdout",
     "output_type": "stream",
     "text": [
      "x1 = [ 0.06239106 -0.13130921 -0.19505352 ...  0.37597212  0.12636275\n",
      " -0.0670127 ] \n",
      "y1 = [ 0.06239106 -0.13130921 -0.19505352 ...  0.37597212  0.12636275\n",
      " -0.0670127 ] \n",
      "\n",
      "x2 = [-0.2544926   0.36100634 -0.11297365 ... -0.32060473  0.09744769\n",
      "  0.24137717] \n",
      "y2 = [-0.19210155  0.22969713 -0.30802718 ...  0.05536739  0.22381044\n",
      "  0.17436447] \n",
      "\n",
      "x3 = [-0.23544002 -0.39829744 -0.36529287 ... -0.16706009  0.0166003\n",
      " -0.05198335] \n",
      "y3 = [-0.42754157 -0.16860031 -0.67332004 ... -0.11169271  0.24041075\n",
      "  0.12238112] \n",
      "\n",
      "x4 = [-0.35012177 -0.09712956  0.25844235 ... -0.14070558 -0.29138047\n",
      "  0.42959463] \n",
      "y4 = [-0.77766334 -0.26572987 -0.41487769 ... -0.25239829 -0.05096972\n",
      "  0.55197575] \n",
      "\n",
      "x5 = [ 0.22919455  0.13282911 -0.21815588 ... -0.06464256 -0.43878652\n",
      "  0.05626201] \n",
      "y5 = [-0.54846879 -0.13290076 -0.63303357 ... -0.31704085 -0.48975624\n",
      "  0.60823777] \n",
      "\n",
      "x6 = [ 0.48080958  0.43342182  0.10908435 ...  0.04230071  0.35402776\n",
      " -0.29899544] \n",
      "y6 = [-0.06765921  0.30052106 -0.52394922 ... -0.27474013 -0.13572848\n",
      "  0.30924233] \n",
      "\n",
      "x7 = [-0.25135536  0.34967488 -0.0587995  ... -0.05297452  0.10429224\n",
      "  0.24758563] \n",
      "y7 = [-0.31901456  0.65019594 -0.58274873 ... -0.32771465 -0.03143623\n",
      "  0.55682796] \n",
      "\n",
      "x8 = [-0.17876182 -0.49788529 -0.07388953 ... -0.0499119   0.01929179\n",
      "  0.39978377] \n",
      "y8 = [-0.49777638  0.15231065 -0.65663825 ... -0.37762656 -0.01214444\n",
      "  0.95661173] \n",
      "\n",
      "x9 = [-0.02929638  0.13500528 -0.28514418 ... -0.03190148  0.33976667\n",
      " -0.26458747] \n",
      "y9 = [-0.52707276  0.28731593 -0.94178243 ... -0.40952804  0.32762223\n",
      "  0.69202426] \n",
      "\n",
      "x10 = [ 0.23401311  0.34723728 -0.46755828 ...  0.37795144 -0.23037362\n",
      " -0.39279224] \n",
      "y10 = [-0.29305965  0.63455321 -1.40934071 ... -0.0315766   0.09724861\n",
      "  0.29923202] \n",
      "\n",
      "\n",
      " y = [-0.29305965  0.63455321 -1.40934071 ... -0.0315766   0.09724861\n",
      "  0.29923202] \n",
      "\n"
     ]
    },
    {
     "data": {
      "image/png": "[encoded data removed]",
      "text/plain": [
       "<Figure size 432x288 with 1 Axes>"
      ]
     },
     "metadata": {
      "needs_background": "light"
     },
     "output_type": "display_data"
    }
   ],
   "source": [
    "N = 50000\n",
    "n = 10\n",
    "y = np.zeros(N)\n",
    "for m in range(n):\n",
    "    x = rand(N) - 0.5 # creates 50000 random numbers between -0.5 and +0.5 a total of 10 different times\n",
    "    y += x # adds the previous iteration of x to the variable y until 10 total iterations/loops have completed, cumsumming the array to variable y\n",
    "    count = m+1 # counts each iteration number\n",
    "    print(\"x{} = {} \\ny{} = {} \\n\".format(count,x,count,y)) # displays the above results for each iteration/loop\n",
    "print(\"\\n y = {} \\n\".format(y))\n",
    "plt.hist(y,bins=20);"
   ]
  },
  {
   "cell_type": "markdown",
   "id": "a76d601a",
   "metadata": {},
   "source": [
    "## (c) Sums of nonuniform discrete random variables\n",
    "\n",
    "rite Python code to generate a histogram of 50,000 samples of a random variables $y$ that are the sum of __2__, __4__, and __10__ random variables drawn from the discrete distribution\n",
    "$$\n",
    "P(1) = \\dfrac{1}{3} \\qquad P(2) = \\dfrac{2}{9} \\qquad P(3) = \\dfrac{1}{9} \\qquad P(4) = \\dfrac{1}{3}\n",
    "$$"
   ]
  },
  {
   "cell_type": "code",
   "execution_count": 127,
   "id": "8e0c0247",
   "metadata": {},
   "outputs": [
    {
     "name": "stdout",
     "output_type": "stream",
     "text": [
      "\n",
      "x1 = [ 0.38052664  0.0450847   0.36375436 ... -0.23334012  0.42988207\n",
      " -0.01217033] \n",
      "y1 = [ 0.38052664  0.0450847   0.36375436 ... -0.23334012  0.42988207\n",
      " -0.01217033]\n",
      "\n",
      "x2 = [ 0.22641496  0.17720598  0.14626807 ...  0.45836177 -0.02264243\n",
      "  0.09015011] \n",
      "y2 = [0.6069416  0.22229067 0.51002243 ... 0.22502165 0.40723964 0.07797979]\n",
      "\n",
      " yt1 = [0.6069416  0.22229067 0.51002243 ... 0.22502165 0.40723964 0.07797979] \n",
      "\n",
      "\n",
      "x1 = [ 0.06707676  0.20915927 -0.08974391 ... -0.09915033 -0.43121197\n",
      " -0.379338  ] \n",
      "y1 = [ 0.67401837  0.43144994  0.42027853 ...  0.12587132 -0.02397233\n",
      " -0.30135821]\n",
      "\n",
      "x2 = [ 0.27751377 -0.0329199  -0.24836711 ... -0.21981811  0.4666917\n",
      "  0.37193035] \n",
      "y2 = [ 0.95153213  0.39853004  0.17191142 ... -0.09394679  0.44271938\n",
      "  0.07057214]\n",
      "\n",
      "x3 = [-0.37506359 -0.23268816 -0.32153391 ...  0.23195543  0.4836602\n",
      " -0.0241813 ] \n",
      "y3 = [ 0.57646855  0.16584188 -0.14962249 ...  0.13800864  0.92637957\n",
      "  0.04639084]\n",
      "\n",
      "x4 = [-0.24351854  0.49513179  0.30285491 ...  0.18133183  0.01290684\n",
      "  0.2438405 ] \n",
      "y4 = [0.33295001 0.66097367 0.15323242 ... 0.31934047 0.93928641 0.29023134]\n",
      "\n",
      " yt2 = [0.33295001 0.66097367 0.15323242 ... 0.31934047 0.93928641 0.29023134] \n",
      "\n",
      "\n",
      "x1 = [-0.32712036  0.08130217  0.28194297 ...  0.00458394  0.45804398\n",
      "  0.13112449] \n",
      "y1 = [0.00582965 0.74227584 0.43517539 ... 0.32392441 1.3973304  0.42135583]\n",
      "\n",
      "x2 = [ 0.43705989 -0.05837388 -0.45040405 ...  0.40261313  0.38851638\n",
      " -0.33977403] \n",
      "y2 = [ 0.44288954  0.68390197 -0.01522867 ...  0.72653754  1.78584677\n",
      "  0.0815818 ]\n",
      "\n",
      "x3 = [-0.35730828 -0.36027384 -0.28576232 ...  0.19002998  0.48043205\n",
      " -0.29688942] \n",
      "y3 = [ 0.08558126  0.32362812 -0.30099098 ...  0.91656752  2.26627883\n",
      " -0.21530762]\n",
      "\n",
      "x4 = [-0.49486329 -0.00053564  0.37462376 ...  0.24980879 -0.21308506\n",
      " -0.28936351] \n",
      "y4 = [-0.40928203  0.32309248  0.07363277 ...  1.1663763   2.05319377\n",
      " -0.50467113]\n",
      "\n",
      "x5 = [-0.06451959 -0.39506993 -0.07628891 ...  0.44132487 -0.35098679\n",
      "  0.24341687] \n",
      "y5 = [-0.47380162 -0.07197745 -0.00265614 ...  1.60770118  1.70220698\n",
      " -0.26125426]\n",
      "\n",
      "x6 = [ 0.11092932  0.12960474 -0.25813131 ...  0.39814487  0.48315497\n",
      " -0.11931305] \n",
      "y6 = [-0.3628723   0.05762729 -0.26078744 ...  2.00584605  2.18536195\n",
      " -0.38056731]\n",
      "\n",
      "x7 = [ 0.46901337 -0.04661984 -0.46520063 ... -0.18933616  0.12142585\n",
      " -0.17131059] \n",
      "y7 = [ 0.10614107  0.01100746 -0.72598807 ...  1.81650989  2.3067878\n",
      " -0.5518779 ]\n",
      "\n",
      "x8 = [ 0.0429007  -0.27319265 -0.01421602 ... -0.14172444  0.3966959\n",
      "  0.47739941] \n",
      "y8 = [ 0.14904177 -0.26218519 -0.7402041  ...  1.67478545  2.7034837\n",
      " -0.07447849]\n",
      "\n",
      "x9 = [ 0.13200112  0.45528922  0.04157942 ... -0.19322856  0.41557497\n",
      " -0.04637165] \n",
      "y9 = [ 0.28104289  0.19310403 -0.69862468 ...  1.48155689  3.11905867\n",
      " -0.12085014]\n",
      "\n",
      "x10 = [ 0.49689266  0.03043828  0.4104536  ...  0.16027473  0.14928746\n",
      " -0.36939559] \n",
      "y10 = [ 0.77793555  0.2235423  -0.28817109 ...  1.64183162  3.26834613\n",
      " -0.49024573]\n",
      "\n",
      " yt3 = [ 0.77793555  0.2235423  -0.28817109 ...  1.64183162  3.26834613\n",
      " -0.49024573] \n",
      "\n",
      "\n",
      " Y = [ 1.71782716  1.10680665  0.37508377 ...  2.18619374  4.61487218\n",
      " -0.1220346 ]\n"
     ]
    },
    {
     "data": {
      "image/png": "[encoded data removed]",
      "text/plain": [
       "<Figure size 432x288 with 1 Axes>"
      ]
     },
     "metadata": {
      "needs_background": "light"
     },
     "output_type": "display_data"
    }
   ],
   "source": [
    "N = 50000\n",
    "y = np.zeros(N)\n",
    "Y = np.zeros(N)\n",
    "k = 3\n",
    "for M in range(k):\n",
    "    n = 2,4,10\n",
    "    for m in range(n[M]):\n",
    "        x = rand(N) - 0.5\n",
    "        y += x \n",
    "        count = m+1\n",
    "        print(\"\\nx{} = {} \\ny{} = {}\".format(count,x,count,y))\n",
    "    Count = M+1\n",
    "    print(\"\\n yt{} = {} \\n\".format(Count,y))\n",
    "    Y += y\n",
    "print(\"\\n Y = {}\".format(Y))\n",
    "plt.hist(Y,bins=30);\n",
    "\n",
    "# Figure out how to implement scipy.rv_discrete or other methods to incorporate a discrete distribution over a uniform ditribution\n",
    "# https://stackoverflow.com/questions/11373192/generating-discrete-random-variables-with-specified-weights-using-scipy-or-numpy"
   ]
  },
  {
   "cell_type": "markdown",
   "id": "f25c3c61",
   "metadata": {},
   "source": [
    "## (d) Sums of nonuniform continuous random variables\n",
    "\n",
    "Write Python code to generate a histogram of 50,000 samples of a random variables $y$ that are the sum of __5__ and __50__ random variables drawn from the exponential distribution with expectation 1."
   ]
  },
  {
   "cell_type": "code",
   "execution_count": null,
   "id": "04db07e6",
   "metadata": {},
   "outputs": [],
   "source": []
  },
  {
   "cell_type": "markdown",
   "id": "16877080",
   "metadata": {},
   "source": [
    "## Summarize your findings."
   ]
  },
  {
   "cell_type": "markdown",
   "id": "32e6f512",
   "metadata": {},
   "source": []
  }
 ],
 "metadata": {
  "kernelspec": {
   "display_name": "Python 3 (ipykernel)",
   "language": "python",
   "name": "python3"
  },
  "language_info": {
   "codemirror_mode": {
    "name": "ipython",
    "version": 3
   },
   "file_extension": ".py",
   "mimetype": "text/x-python",
   "name": "python",
   "nbconvert_exporter": "python",
   "pygments_lexer": "ipython3",
   "version": "3.8.8"
  }
 },
 "nbformat": 4,
 "nbformat_minor": 5
}

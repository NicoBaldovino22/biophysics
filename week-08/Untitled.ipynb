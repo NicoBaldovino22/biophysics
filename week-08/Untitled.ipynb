{
 "cells": [
  {
   "cell_type": "markdown",
   "id": "f2a62c00-031c-40b5-a07f-bb8dba8d7e13",
   "metadata": {},
   "source": [
    "# Chapter 8: Cryo-Electron Microscopy\n",
    "\n",
    "Excursion: Single Particle Reconstruction in Cryo-Electron Microscopy\n",
    "\n",
    "Use this notebook to store your work for this problem."
   ]
  },
  {
   "cell_type": "markdown",
   "id": "768d062f-6fb8-462b-b186-d99c48a1ab31",
   "metadata": {},
   "source": [
    "- Your Turn 8A"
   ]
  },
  {
   "cell_type": "code",
   "execution_count": 2,
   "id": "ee486de5-5d10-4a7d-8d80-a47d55a875c8",
   "metadata": {},
   "outputs": [],
   "source": [
    "import numpy as np\n",
    "import matplotlib.pyplot as plt"
   ]
  },
  {
   "cell_type": "code",
   "execution_count": 50,
   "id": "96193cd9-ded8-458c-b247-88883adc9277",
   "metadata": {},
   "outputs": [
    {
     "name": "stdout",
     "output_type": "stream",
     "text": [
      "[1. 2. 3. 4. 5.] [1. 2. 3. 4. 5.]\n",
      "[ 5. 14. 26. 40. 55. 40. 26. 14.  5.]\n"
     ]
    }
   ],
   "source": [
    "x = np.linspace(1,5,5)\n",
    "y = x\n",
    "print(x,y)\n",
    "\n",
    "cross = np.correlate(x,y,mode=\"full\")\n",
    "print(cross)"
   ]
  },
  {
   "cell_type": "code",
   "execution_count": null,
   "id": "535aea22-6690-422e-8256-6d49c0228b83",
   "metadata": {},
   "outputs": [],
   "source": []
  }
 ],
 "metadata": {
  "kernelspec": {
   "display_name": "Python 3 (ipykernel)",
   "language": "python",
   "name": "python3"
  },
  "language_info": {
   "codemirror_mode": {
    "name": "ipython",
    "version": 3
   },
   "file_extension": ".py",
   "mimetype": "text/x-python",
   "name": "python",
   "nbconvert_exporter": "python",
   "pygments_lexer": "ipython3",
   "version": "3.8.8"
  }
 },
 "nbformat": 4,
 "nbformat_minor": 5
}
